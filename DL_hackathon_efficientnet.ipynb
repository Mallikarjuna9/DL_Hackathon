{
  "cells": [
    {
      "cell_type": "code",
      "execution_count": 1,
      "id": "f2695d55-d8a1-4b6c-8c0c-dd5c4812a158",
      "metadata": {
        "id": "f2695d55-d8a1-4b6c-8c0c-dd5c4812a158"
      },
      "outputs": [],
      "source": [
        "# Import basic libraries to handle data and build the model\n",
        "import zipfile\n",
        "import os\n",
        "\n",
        "import torch\n",
        "import torch.nn as nn\n",
        "import torch.optim as optim\n",
        "from torch.utils.data import DataLoader,Dataset\n",
        "from torchvision import datasets, transforms\n",
        "from torch.utils.data import random_split"
      ]
    },
    {
      "cell_type": "code",
      "execution_count": 2,
      "id": "c7488641-a236-4060-a3b5-4937fcb1b27b",
      "metadata": {
        "id": "c7488641-a236-4060-a3b5-4937fcb1b27b",
        "outputId": "b4a1cd1f-6c90-4f04-f806-81b88cdca288",
        "colab": {
          "base_uri": "https://localhost:8080/"
        }
      },
      "outputs": [
        {
          "output_type": "stream",
          "name": "stdout",
          "text": [
            "Cloning into 'Qualcomm-DL-Hackathon'...\n",
            "remote: Enumerating objects: 10, done.\u001b[K\n",
            "remote: Counting objects: 100% (10/10), done.\u001b[K\n",
            "remote: Compressing objects: 100% (10/10), done.\u001b[K\n",
            "remote: Total 10 (delta 1), reused 0 (delta 0), pack-reused 0 (from 0)\u001b[K\n",
            "Receiving objects: 100% (10/10), 30.68 MiB | 15.37 MiB/s, done.\n",
            "Resolving deltas: 100% (1/1), done.\n"
          ]
        }
      ],
      "source": [
        "!git clone https://github.com/Prashant-AV/Qualcomm-DL-Hackathon.git"
      ]
    },
    {
      "cell_type": "code",
      "execution_count": 3,
      "id": "6f66785f-94db-44ad-ba2d-b291557569a0",
      "metadata": {
        "id": "6f66785f-94db-44ad-ba2d-b291557569a0"
      },
      "outputs": [],
      "source": [
        "# Set device (GPU if available)\n",
        "device = torch.device(\"cuda\" if torch.cuda.is_available() else \"cpu\")"
      ]
    },
    {
      "cell_type": "code",
      "execution_count": 4,
      "id": "9983d2c2-ac44-47d4-8ede-19489fcd745f",
      "metadata": {
        "id": "9983d2c2-ac44-47d4-8ede-19489fcd745f",
        "outputId": "1bc6cb6e-e5b1-4474-fe3f-0e44c2a1e552",
        "colab": {
          "base_uri": "https://localhost:8080/"
        }
      },
      "outputs": [
        {
          "output_type": "stream",
          "name": "stdout",
          "text": [
            "Contents extracted to /content/Qualcomm-DL-Hackathon/train/\n"
          ]
        }
      ],
      "source": [
        "os.chdir(\"/content/Qualcomm-DL-Hackathon/train\")\n",
        "extract_dir = \"/content/Qualcomm-DL-Hackathon/train/\"\n",
        "os.makedirs(extract_dir, exist_ok=True)\n",
        "\n",
        "# Open and extract the zip file\n",
        "with zipfile.ZipFile(\"images part-1.zip\", 'r') as zip_ref:\n",
        "    zip_ref.extractall(extract_dir)\n",
        "with zipfile.ZipFile(\"images part-2.zip\", 'r') as zip_ref:\n",
        "    zip_ref.extractall(extract_dir)\n",
        "print(f\"Contents extracted to {extract_dir}\")"
      ]
    },
    {
      "cell_type": "code",
      "execution_count": 5,
      "id": "e560adc6-fa23-4427-a254-13b67de503e3",
      "metadata": {
        "id": "e560adc6-fa23-4427-a254-13b67de503e3"
      },
      "outputs": [],
      "source": [
        "os.rename('/content/Qualcomm-DL-Hackathon/train/images part-1', '/content/Qualcomm-DL-Hackathon/train/images')"
      ]
    },
    {
      "cell_type": "code",
      "execution_count": 6,
      "id": "744ab0e6-1eb3-4f34-bdbc-cdb76552ac8e",
      "metadata": {
        "id": "744ab0e6-1eb3-4f34-bdbc-cdb76552ac8e"
      },
      "outputs": [],
      "source": [
        "import shutil\n",
        "for x in os.listdir('/content/Qualcomm-DL-Hackathon/train/images part-2'):\n",
        "  source_path = os.path.join('/content/Qualcomm-DL-Hackathon/train/images part-2', x)\n",
        "  shutil.move(source_path, '/content/Qualcomm-DL-Hackathon/train/images/')"
      ]
    },
    {
      "cell_type": "code",
      "execution_count": 7,
      "id": "516cb68d-8cb6-4467-b7d9-3fb8a3a141cc",
      "metadata": {
        "id": "516cb68d-8cb6-4467-b7d9-3fb8a3a141cc"
      },
      "outputs": [],
      "source": [
        "#shutil.rmtree('/content/Qualcomm-DL-Hackathon/train/images')\n",
        "shutil.rmtree('/content/Qualcomm-DL-Hackathon/train/images part-2')"
      ]
    },
    {
      "cell_type": "code",
      "execution_count": 8,
      "id": "e094688f-0bb3-4287-b245-a32fc06b64e9",
      "metadata": {
        "id": "e094688f-0bb3-4287-b245-a32fc06b64e9",
        "outputId": "b6d4524c-08b1-40f2-ef4d-7521cd15f980",
        "colab": {
          "base_uri": "https://localhost:8080/",
          "height": 35
        }
      },
      "outputs": [
        {
          "output_type": "execute_result",
          "data": {
            "text/plain": [
              "'/content/Qualcomm-DL-Hackathon/train'"
            ],
            "application/vnd.google.colaboratory.intrinsic+json": {
              "type": "string"
            }
          },
          "metadata": {},
          "execution_count": 8
        }
      ],
      "source": [
        "from PIL import Image\n",
        "os.getcwd()"
      ]
    },
    {
      "cell_type": "code",
      "execution_count": 9,
      "id": "bddc1a6b-f06a-4a5e-8177-38f7879c69ca",
      "metadata": {
        "id": "bddc1a6b-f06a-4a5e-8177-38f7879c69ca",
        "outputId": "7d28bc83-a115-4673-c91e-8476f6e470c3",
        "colab": {
          "base_uri": "https://localhost:8080/"
        }
      },
      "outputs": [
        {
          "output_type": "execute_result",
          "data": {
            "text/plain": [
              "(2352, (224, 224))"
            ]
          },
          "metadata": {},
          "execution_count": 9
        }
      ],
      "source": [
        "#reading images to check size\n",
        "count = 0\n",
        "for x in os.listdir('/content/Qualcomm-DL-Hackathon/train/images/'):\n",
        "  img = Image.open('/content/Qualcomm-DL-Hackathon/train/images/'+x)\n",
        "  count+=1\n",
        "count, img.size"
      ]
    },
    {
      "cell_type": "code",
      "source": [
        "!pip install efficientnet_pytorch"
      ],
      "metadata": {
        "collapsed": true,
        "id": "lc3pILL_Ya0s",
        "outputId": "9914347e-0327-4e47-add1-ff0e9a7430f8",
        "colab": {
          "base_uri": "https://localhost:8080/"
        }
      },
      "id": "lc3pILL_Ya0s",
      "execution_count": 10,
      "outputs": [
        {
          "output_type": "stream",
          "name": "stdout",
          "text": [
            "Collecting efficientnet_pytorch\n",
            "  Downloading efficientnet_pytorch-0.7.1.tar.gz (21 kB)\n",
            "  Preparing metadata (setup.py) ... \u001b[?25l\u001b[?25hdone\n",
            "Requirement already satisfied: torch in /usr/local/lib/python3.10/dist-packages (from efficientnet_pytorch) (2.5.1+cu121)\n",
            "Requirement already satisfied: filelock in /usr/local/lib/python3.10/dist-packages (from torch->efficientnet_pytorch) (3.16.1)\n",
            "Requirement already satisfied: typing-extensions>=4.8.0 in /usr/local/lib/python3.10/dist-packages (from torch->efficientnet_pytorch) (4.12.2)\n",
            "Requirement already satisfied: networkx in /usr/local/lib/python3.10/dist-packages (from torch->efficientnet_pytorch) (3.4.2)\n",
            "Requirement already satisfied: jinja2 in /usr/local/lib/python3.10/dist-packages (from torch->efficientnet_pytorch) (3.1.4)\n",
            "Requirement already satisfied: fsspec in /usr/local/lib/python3.10/dist-packages (from torch->efficientnet_pytorch) (2024.10.0)\n",
            "Requirement already satisfied: sympy==1.13.1 in /usr/local/lib/python3.10/dist-packages (from torch->efficientnet_pytorch) (1.13.1)\n",
            "Requirement already satisfied: mpmath<1.4,>=1.1.0 in /usr/local/lib/python3.10/dist-packages (from sympy==1.13.1->torch->efficientnet_pytorch) (1.3.0)\n",
            "Requirement already satisfied: MarkupSafe>=2.0 in /usr/local/lib/python3.10/dist-packages (from jinja2->torch->efficientnet_pytorch) (3.0.2)\n",
            "Building wheels for collected packages: efficientnet_pytorch\n",
            "  Building wheel for efficientnet_pytorch (setup.py) ... \u001b[?25l\u001b[?25hdone\n",
            "  Created wheel for efficientnet_pytorch: filename=efficientnet_pytorch-0.7.1-py3-none-any.whl size=16424 sha256=d166bdb9ad5bcb55eedb4ecd66da4580cf9d6c6560b783789734fdaa9dd5ac01\n",
            "  Stored in directory: /root/.cache/pip/wheels/03/3f/e9/911b1bc46869644912bda90a56bcf7b960f20b5187feea3baf\n",
            "Successfully built efficientnet_pytorch\n",
            "Installing collected packages: efficientnet_pytorch\n",
            "Successfully installed efficientnet_pytorch-0.7.1\n"
          ]
        }
      ]
    },
    {
      "cell_type": "code",
      "execution_count": 11,
      "id": "6178d686-99ad-44b1-8303-549f51e1fd32",
      "metadata": {
        "id": "6178d686-99ad-44b1-8303-549f51e1fd32"
      },
      "outputs": [],
      "source": [
        "import numpy as np\n",
        "import pandas as pd\n",
        "from efficientnet_pytorch import EfficientNet"
      ]
    },
    {
      "cell_type": "code",
      "execution_count": 12,
      "id": "27346ed1-a2be-4a4d-a314-b53107957349",
      "metadata": {
        "id": "27346ed1-a2be-4a4d-a314-b53107957349"
      },
      "outputs": [],
      "source": [
        "# creating transforms to resize and normalize te features based on imagenet standards\n",
        "t_transforms = transforms.Compose([\n",
        "    transforms.Resize((128, 128)),\n",
        "    transforms.ToTensor(),\n",
        "    transforms.Normalize(mean=[0.485, 0.456, 0.406], std=[0.229, 0.224, 0.225])  # ImageNet mean/std\n",
        "])\n"
      ]
    },
    {
      "cell_type": "code",
      "source": [
        "os.chdir(\"/content/Qualcomm-DL-Hackathon/train/\")"
      ],
      "metadata": {
        "id": "q7g_4d0CY-YZ"
      },
      "id": "q7g_4d0CY-YZ",
      "execution_count": 13,
      "outputs": []
    },
    {
      "cell_type": "code",
      "source": [
        "# creating customdataset for transforming images to tensors and returning image tensors and labels\n",
        "class CustomDataset(Dataset):\n",
        "    def __init__(self, csv_file, root_dir, transform=None, train=True):\n",
        "        self.data = pd.read_csv(csv_file)\n",
        "        self.root_dir = root_dir\n",
        "        self.transform = transform\n",
        "        self.train = train\n",
        "\n",
        "    def __len__(self):\n",
        "        return len(self.data)\n",
        "\n",
        "    def __getitem__(self, idx):\n",
        "        img_name = os.path.join(self.root_dir, self.data.iloc[idx, 0])\n",
        "        image = Image.open(img_name).convert('RGB')\n",
        "        if self.transform:\n",
        "            image = self.transform(image)\n",
        "\n",
        "        if self.train:\n",
        "            label = self.data.iloc[idx, 1]\n",
        "            return image, label\n",
        "        else:\n",
        "            return image"
      ],
      "metadata": {
        "id": "AvoOiVSiaYIr"
      },
      "id": "AvoOiVSiaYIr",
      "execution_count": 14,
      "outputs": []
    },
    {
      "cell_type": "code",
      "execution_count": 15,
      "id": "269340f6-c239-4361-a144-ae2b626214a8",
      "metadata": {
        "id": "269340f6-c239-4361-a144-ae2b626214a8"
      },
      "outputs": [],
      "source": [
        "# creating Datasets for training and testing\n",
        "train_dataset = CustomDataset(csv_file='/content/Qualcomm-DL-Hackathon/train/train.csv', root_dir='images', transform=t_transforms)\n",
        "test_dataset = CustomDataset(csv_file='/content/Qualcomm-DL-Hackathon/test.csv', root_dir='images', transform=t_transforms, train=False)\n"
      ]
    },
    {
      "cell_type": "code",
      "execution_count": 16,
      "id": "eeaf06fb-0288-4d79-8c97-bc8034263414",
      "metadata": {
        "id": "eeaf06fb-0288-4d79-8c97-bc8034263414"
      },
      "outputs": [],
      "source": [
        "# Split training data into training and validation sets\n",
        "train_size = int(0.8 * len(train_dataset))\n",
        "val_size = len(train_dataset) - train_size\n",
        "train_data, val_data = random_split(train_dataset, [train_size, val_size])"
      ]
    },
    {
      "cell_type": "code",
      "execution_count": 17,
      "id": "31d10c74-b1af-48f4-b8d6-6d69387950e9",
      "metadata": {
        "id": "31d10c74-b1af-48f4-b8d6-6d69387950e9",
        "outputId": "efcad996-58dd-4cb7-9143-4ff0b8425c61",
        "colab": {
          "base_uri": "https://localhost:8080/"
        }
      },
      "outputs": [
        {
          "output_type": "execute_result",
          "data": {
            "text/plain": [
              "(1316, 330)"
            ]
          },
          "metadata": {},
          "execution_count": 17
        }
      ],
      "source": [
        "train_size, val_size"
      ]
    },
    {
      "cell_type": "code",
      "execution_count": 18,
      "id": "cf4800f5-66d9-4df6-9ed2-c075e9db5141",
      "metadata": {
        "id": "cf4800f5-66d9-4df6-9ed2-c075e9db5141"
      },
      "outputs": [],
      "source": [
        "# creating data loaders in the batches of size 32\n",
        "batch_size = 32\n",
        "train_loader = DataLoader(train_data, batch_size=batch_size, shuffle=True)\n",
        "val_loader = DataLoader(val_data, batch_size=batch_size, shuffle=True)\n",
        "test_loader = DataLoader(test_dataset, batch_size=batch_size, shuffle=False)"
      ]
    },
    {
      "cell_type": "code",
      "execution_count": 19,
      "id": "c4fd5ab2-58df-43e9-8425-1d14715cbe5b",
      "metadata": {
        "id": "c4fd5ab2-58df-43e9-8425-1d14715cbe5b",
        "outputId": "88ed6878-13ae-4286-8d9c-39d332978614",
        "colab": {
          "base_uri": "https://localhost:8080/"
        }
      },
      "outputs": [
        {
          "output_type": "stream",
          "name": "stderr",
          "text": [
            "Downloading: \"https://github.com/lukemelas/EfficientNet-PyTorch/releases/download/1.0/efficientnet-b0-355c32eb.pth\" to /root/.cache/torch/hub/checkpoints/efficientnet-b0-355c32eb.pth\n",
            "100%|██████████| 20.4M/20.4M [00:00<00:00, 102MB/s] \n"
          ]
        },
        {
          "output_type": "stream",
          "name": "stdout",
          "text": [
            "Loaded pretrained weights for efficientnet-b0\n",
            "1280\n"
          ]
        }
      ],
      "source": [
        "# choosing Efficient net architecture as it is best for image classification tasks\n",
        "model = EfficientNet.from_pretrained('efficientnet-b0')  # choosing model B0 as it is smallest and least computational.\n",
        "num_ftrs = model._fc.in_features\n",
        "print(num_ftrs)\n",
        "model._fc = nn.Linear(num_ftrs, 2)  # 2 classes: emergency and non-emergency\n",
        "model = model.to(device)"
      ]
    },
    {
      "cell_type": "code",
      "execution_count": 20,
      "id": "5b7c93b7-b94d-4fe1-b901-c9b1bb437bf6",
      "metadata": {
        "id": "5b7c93b7-b94d-4fe1-b901-c9b1bb437bf6"
      },
      "outputs": [],
      "source": [
        "# Defining the loss function and optimizer\n",
        "criterion = nn.CrossEntropyLoss()  # for classification\n",
        "optimizer = optim.Adam(model.parameters(), lr=0.001) #optimiser with learning rate 0.001"
      ]
    },
    {
      "cell_type": "code",
      "execution_count": 21,
      "id": "17271ea9-171d-4801-9043-9d75f38259ff",
      "metadata": {
        "id": "17271ea9-171d-4801-9043-9d75f38259ff",
        "outputId": "4e288da5-a547-4d04-ae33-fd9d294fd6d3",
        "colab": {
          "base_uri": "https://localhost:8080/"
        }
      },
      "outputs": [
        {
          "output_type": "stream",
          "name": "stdout",
          "text": [
            "Epoch 1/10, Loss: 0.3485, Accuracy: 85.87%\n",
            "Epoch 2/10, Loss: 0.1402, Accuracy: 94.76%\n",
            "Epoch 3/10, Loss: 0.0534, Accuracy: 98.33%\n",
            "Epoch 4/10, Loss: 0.0466, Accuracy: 98.10%\n",
            "Epoch 5/10, Loss: 0.0312, Accuracy: 98.86%\n",
            "Epoch 6/10, Loss: 0.0419, Accuracy: 98.25%\n",
            "Epoch 7/10, Loss: 0.0417, Accuracy: 98.25%\n",
            "Epoch 8/10, Loss: 0.0200, Accuracy: 99.24%\n",
            "Epoch 9/10, Loss: 0.0514, Accuracy: 99.09%\n",
            "Epoch 10/10, Loss: 0.1195, Accuracy: 96.05%\n",
            "Best Validation Accuracy: 99.24%\n"
          ]
        }
      ],
      "source": [
        "#training the model on internally split train data\n",
        "num_epochs = 10\n",
        "best_accuracy = 0.0\n",
        "\n",
        "for epoch in range(num_epochs):\n",
        "    model.train()\n",
        "    running_loss = 0.0\n",
        "    correct = 0\n",
        "    total = 0\n",
        "    for images, labels in train_loader:\n",
        "        images, labels = images.to(device), labels.to(device)\n",
        "        optimizer.zero_grad()\n",
        "        outputs = model(images)\n",
        "        loss = criterion(outputs, labels)\n",
        "        loss.backward()\n",
        "        optimizer.step()\n",
        "        running_loss += loss.item()\n",
        "\n",
        "        # Calculate accuracy\n",
        "        _, predicted = torch.max(outputs, 1)\n",
        "        total += labels.size(0)\n",
        "        correct += (predicted == labels).sum().item()\n",
        "\n",
        "    epoch_loss = running_loss / len(train_loader)\n",
        "    epoch_acc = 100 * correct / total\n",
        "    print(f\"Epoch {epoch+1}/{num_epochs}, Loss: {epoch_loss:.4f}, Accuracy: {epoch_acc:.2f}%\")\n",
        "\n",
        "    if epoch_acc > best_accuracy:\n",
        "        best_accuracy = epoch_acc\n",
        "\n",
        "print(f'Best Validation Accuracy: {best_accuracy:.2f}%')\n",
        "\n",
        "torch.save(model.state_dict(), 'best_model.pth')"
      ]
    },
    {
      "cell_type": "code",
      "source": [
        "# importing necessary libraries for printing evaluation metrics\n",
        "from sklearn.metrics import confusion_matrix,classification_report\n",
        "import matplotlib.pyplot as plt\n",
        "import seaborn as sns"
      ],
      "metadata": {
        "id": "dVJMy8TrgeZz"
      },
      "id": "dVJMy8TrgeZz",
      "execution_count": 23,
      "outputs": []
    },
    {
      "cell_type": "code",
      "source": [
        "#Evaluating model on internal test data val_dataset and printing evaluation metrics\n",
        "model.eval()\n",
        "val_labels = []\n",
        "val_predictions = []\n",
        "\n",
        "with torch.no_grad():\n",
        "    for inputs, labels in val_loader:\n",
        "        inputs, labels = inputs.to(device), labels.to(device)\n",
        "        outputs = model(inputs)\n",
        "        _, predicted = torch.max(outputs, 1)\n",
        "\n",
        "        val_labels.extend(labels.cpu().numpy())  # Collect true labels\n",
        "        val_predictions.extend(predicted.cpu().numpy())  # Collect predicted labels\n",
        "\n",
        "# Generate the confusion matrix\n",
        "cm = confusion_matrix(val_labels, val_predictions)\n",
        "cr=classification_report(val_labels, val_predictions)\n",
        "\n",
        "print(cr)\n",
        "\n",
        "# Plot the confusion matrix using Seaborn heatmap\n",
        "plt.figure(figsize=(4, 3))\n",
        "sns.heatmap(cm, annot=True, fmt='d', cmap='Blues')\n",
        "plt.title('Confusion Matrix')\n",
        "plt.xlabel('Predicted Labels')\n",
        "plt.ylabel('True Labels')\n",
        "plt.show()\n",
        "\n",
        "# Print the test accuracy\n",
        "val_accuracy = 100 * sum(np.array(val_labels) == np.array(val_predictions)) / len(val_labels)\n",
        "print(f'Validation Accuracy: {val_accuracy:.2f}%')\n"
      ],
      "metadata": {
        "id": "o9Zu0T8RhQUq",
        "outputId": "1fa92e08-ffb3-4c8e-f541-35458557c199",
        "colab": {
          "base_uri": "https://localhost:8080/",
          "height": 507
        }
      },
      "id": "o9Zu0T8RhQUq",
      "execution_count": 24,
      "outputs": [
        {
          "output_type": "stream",
          "name": "stdout",
          "text": [
            "              precision    recall  f1-score   support\n",
            "\n",
            "           0       0.93      0.94      0.93       200\n",
            "           1       0.90      0.88      0.89       130\n",
            "\n",
            "    accuracy                           0.92       330\n",
            "   macro avg       0.91      0.91      0.91       330\n",
            "weighted avg       0.91      0.92      0.92       330\n",
            "\n"
          ]
        },
        {
          "output_type": "display_data",
          "data": {
            "text/plain": [
              "<Figure size 400x300 with 2 Axes>"
            ],
            "image/png": "[encoded data removed]"
          },
          "metadata": {}
        },
        {
          "output_type": "stream",
          "name": "stdout",
          "text": [
            "Validation Accuracy: 91.52%\n"
          ]
        }
      ]
    },
    {
      "cell_type": "code",
      "source": [
        "# evaluating images in test.csv file and writing predictions\n",
        "model.load_state_dict(torch.load('best_model.pth'))\n",
        "model.eval()\n",
        "predictions = []\n",
        "\n",
        "with torch.no_grad():\n",
        "    for images in test_loader:\n",
        "        images = images.to(device)\n",
        "        outputs = model(images)\n",
        "        _, predicted = torch.max(outputs.data, 1)\n",
        "        predictions.extend(predicted.cpu().numpy())\n",
        "\n",
        "# Save predictions to CSV\n",
        "test_data = pd.read_csv('/content/Qualcomm-DL-Hackathon/test.csv')\n",
        "test_data['label'] = predictions\n",
        "test_data.to_csv('/content/Qualcomm-DL-Hackathon/test_predictions.csv', index=False)\n",
        "print('labels written to test_prediction.csv')"
      ],
      "metadata": {
        "id": "zGYhYhb0jCsF",
        "outputId": "08b9d420-6483-4425-87c5-83e5e680b094",
        "colab": {
          "base_uri": "https://localhost:8080/"
        }
      },
      "id": "zGYhYhb0jCsF",
      "execution_count": 25,
      "outputs": [
        {
          "output_type": "stream",
          "name": "stderr",
          "text": [
            "<ipython-input-25-d59bd4584d6b>:1: FutureWarning: You are using `torch.load` with `weights_only=False` (the current default value), which uses the default pickle module implicitly. It is possible to construct malicious pickle data which will execute arbitrary code during unpickling (See https://github.com/pytorch/pytorch/blob/main/SECURITY.md#untrusted-models for more details). In a future release, the default value for `weights_only` will be flipped to `True`. This limits the functions that could be executed during unpickling. Arbitrary objects will no longer be allowed to be loaded via this mode unless they are explicitly allowlisted by the user via `torch.serialization.add_safe_globals`. We recommend you start setting `weights_only=True` for any use case where you don't have full control of the loaded file. Please open an issue on GitHub for any issues related to this experimental feature.\n",
            "  model.load_state_dict(torch.load('best_model.pth'))\n"
          ]
        }
      ]
    }
  ],
  "metadata": {
    "kernelspec": {
      "display_name": "Python 3",
      "name": "python3"
    },
    "language_info": {
      "codemirror_mode": {
        "name": "ipython",
        "version": 3
      },
      "file_extension": ".py",
      "mimetype": "text/x-python",
      "name": "python",
      "nbconvert_exporter": "python",
      "pygments_lexer": "ipython3",
      "version": "3.12.7"
    },
    "colab": {
      "provenance": [],
      "gpuType": "T4"
    },
    "accelerator": "GPU"
  },
  "nbformat": 4,
  "nbformat_minor": 5
}