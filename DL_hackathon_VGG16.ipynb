{
  "cells": [
    {
      "cell_type": "code",
      "execution_count": 1,
      "id": "f2695d55-d8a1-4b6c-8c0c-dd5c4812a158",
      "metadata": {
        "id": "f2695d55-d8a1-4b6c-8c0c-dd5c4812a158"
      },
      "outputs": [],
      "source": [
        "# Import basic libraries to handle data and build the model\n",
        "import zipfile\n",
        "import os\n",
        "\n",
        "import torch\n",
        "import torch.nn as nn\n",
        "import torch.optim as optim\n",
        "from torch.utils.data import DataLoader,Dataset\n",
        "from torchvision import datasets, transforms\n",
        "from torch.utils.data import random_split"
      ]
    },
    {
      "cell_type": "code",
      "execution_count": 2,
      "id": "c7488641-a236-4060-a3b5-4937fcb1b27b",
      "metadata": {
        "id": "c7488641-a236-4060-a3b5-4937fcb1b27b",
        "outputId": "624765d7-98f4-4828-c1f9-8f2c0e2ae0d0",
        "colab": {
          "base_uri": "https://localhost:8080/"
        }
      },
      "outputs": [
        {
          "output_type": "stream",
          "name": "stdout",
          "text": [
            "Cloning into 'Qualcomm-DL-Hackathon'...\n",
            "remote: Enumerating objects: 10, done.\u001b[K\n",
            "remote: Counting objects: 100% (10/10), done.\u001b[K\n",
            "remote: Compressing objects: 100% (10/10), done.\u001b[K\n",
            "remote: Total 10 (delta 1), reused 0 (delta 0), pack-reused 0 (from 0)\u001b[K\n",
            "Receiving objects: 100% (10/10), 30.68 MiB | 26.51 MiB/s, done.\n",
            "Resolving deltas: 100% (1/1), done.\n"
          ]
        }
      ],
      "source": [
        "#!git clone https://github.com/Prashant-AV/Qualcomm-DL-Hackathon.git"
      ]
    },
    {
      "cell_type": "code",
      "execution_count": null,
      "id": "6f66785f-94db-44ad-ba2d-b291557569a0",
      "metadata": {
        "id": "6f66785f-94db-44ad-ba2d-b291557569a0"
      },
      "outputs": [],
      "source": [
        "# Set device (GPU if available)\n",
        "#device = torch.device(\"cuda\" if torch.cuda.is_available() else \"cpu\")"
      ]
    },
    {
      "cell_type": "code",
      "execution_count": 3,
      "id": "9983d2c2-ac44-47d4-8ede-19489fcd745f",
      "metadata": {
        "id": "9983d2c2-ac44-47d4-8ede-19489fcd745f",
        "outputId": "5a7c83f2-9677-41e3-a9d9-66535eb5b8dc",
        "colab": {
          "base_uri": "https://localhost:8080/"
        }
      },
      "outputs": [
        {
          "output_type": "stream",
          "name": "stdout",
          "text": [
            "Contents extracted to /content/Qualcomm-DL-Hackathon/train/\n"
          ]
        }
      ],
      "source": [
        "os.chdir(\"/content/Qualcomm-DL-Hackathon/train\")\n",
        "extract_dir = \"/content/Qualcomm-DL-Hackathon/train/\"\n",
        "os.makedirs(extract_dir, exist_ok=True)\n",
        "\n",
        "# Open and extract the zip file\n",
        "with zipfile.ZipFile(\"images part-1.zip\", 'r') as zip_ref:\n",
        "    zip_ref.extractall(extract_dir)\n",
        "with zipfile.ZipFile(\"images part-2.zip\", 'r') as zip_ref:\n",
        "    zip_ref.extractall(extract_dir)\n",
        "print(f\"Contents extracted to {extract_dir}\")"
      ]
    },
    {
      "cell_type": "code",
      "execution_count": 4,
      "id": "e560adc6-fa23-4427-a254-13b67de503e3",
      "metadata": {
        "id": "e560adc6-fa23-4427-a254-13b67de503e3"
      },
      "outputs": [],
      "source": [
        "os.rename('/content/Qualcomm-DL-Hackathon/train/images part-1', '/content/Qualcomm-DL-Hackathon/train/images')"
      ]
    },
    {
      "cell_type": "code",
      "execution_count": 5,
      "id": "744ab0e6-1eb3-4f34-bdbc-cdb76552ac8e",
      "metadata": {
        "id": "744ab0e6-1eb3-4f34-bdbc-cdb76552ac8e"
      },
      "outputs": [],
      "source": [
        "import shutil\n",
        "for x in os.listdir('/content/Qualcomm-DL-Hackathon/train/images part-2'):\n",
        "  source_path = os.path.join('/content/Qualcomm-DL-Hackathon/train/images part-2', x)\n",
        "  shutil.move(source_path, '/content/Qualcomm-DL-Hackathon/train/images/')"
      ]
    },
    {
      "cell_type": "code",
      "execution_count": 6,
      "id": "516cb68d-8cb6-4467-b7d9-3fb8a3a141cc",
      "metadata": {
        "id": "516cb68d-8cb6-4467-b7d9-3fb8a3a141cc"
      },
      "outputs": [],
      "source": [
        "#shutil.rmtree('/content/Qualcomm-DL-Hackathon/train/images')\n",
        "shutil.rmtree('/content/Qualcomm-DL-Hackathon/train/images part-2')"
      ]
    },
    {
      "cell_type": "code",
      "execution_count": 8,
      "id": "e094688f-0bb3-4287-b245-a32fc06b64e9",
      "metadata": {
        "id": "e094688f-0bb3-4287-b245-a32fc06b64e9",
        "outputId": "02bf715c-7d8e-48c3-c935-6c28cc843392",
        "colab": {
          "base_uri": "https://localhost:8080/",
          "height": 35
        }
      },
      "outputs": [
        {
          "output_type": "execute_result",
          "data": {
            "text/plain": [
              "'/content/Qualcomm-DL-Hackathon/train'"
            ],
            "application/vnd.google.colaboratory.intrinsic+json": {
              "type": "string"
            }
          },
          "metadata": {},
          "execution_count": 8
        }
      ],
      "source": [
        "from PIL import Image\n",
        "os.getcwd()"
      ]
    },
    {
      "cell_type": "code",
      "execution_count": 9,
      "id": "bddc1a6b-f06a-4a5e-8177-38f7879c69ca",
      "metadata": {
        "id": "bddc1a6b-f06a-4a5e-8177-38f7879c69ca",
        "outputId": "7a4eb8e0-afcc-4c36-f661-e1abf4586e91",
        "colab": {
          "base_uri": "https://localhost:8080/"
        }
      },
      "outputs": [
        {
          "output_type": "execute_result",
          "data": {
            "text/plain": [
              "2352"
            ]
          },
          "metadata": {},
          "execution_count": 9
        }
      ],
      "source": [
        "#reading images to check size\n",
        "count = 0\n",
        "for x in os.listdir('/content/Qualcomm-DL-Hackathon/train/images/'):\n",
        "  img = Image.open('/content/Qualcomm-DL-Hackathon/train/images/'+x)\n",
        "  count+=1\n",
        "count"
      ]
    },
    {
      "cell_type": "code",
      "execution_count": 10,
      "id": "4746c01b-bf33-484e-b245-e83bd66b1d82",
      "metadata": {
        "id": "4746c01b-bf33-484e-b245-e83bd66b1d82",
        "outputId": "32fae9de-8120-4574-f5c6-ad9842c93bb1",
        "colab": {
          "base_uri": "https://localhost:8080/"
        }
      },
      "outputs": [
        {
          "output_type": "execute_result",
          "data": {
            "text/plain": [
              "(224, 224)"
            ]
          },
          "metadata": {},
          "execution_count": 10
        }
      ],
      "source": [
        "img.size"
      ]
    },
    {
      "cell_type": "code",
      "execution_count": 11,
      "id": "daa865e0-0f35-402d-ba72-45ea218dd1eb",
      "metadata": {
        "id": "daa865e0-0f35-402d-ba72-45ea218dd1eb",
        "outputId": "95c552e3-6208-4e0d-c324-59d5d7eb8c48",
        "colab": {
          "base_uri": "https://localhost:8080/",
          "height": 206
        }
      },
      "outputs": [
        {
          "output_type": "execute_result",
          "data": {
            "text/plain": [
              "  image_names  emergency_or_not\n",
              "0    1503.jpg                 0\n",
              "1    1420.jpg                 0\n",
              "2    1764.jpg                 0\n",
              "3    1356.jpg                 0\n",
              "4    1117.jpg                 0"
            ],
            "text/html": [
              "\n",
              "  <div id=\"df-8cd5d08c-2dee-4ecb-8e46-ba42a3253112\" class=\"colab-df-container\">\n",
              "    <div>\n",
              "<style scoped>\n",
              "    .dataframe tbody tr th:only-of-type {\n",
              "        vertical-align: middle;\n",
              "    }\n",
              "\n",
              "    .dataframe tbody tr th {\n",
              "        vertical-align: top;\n",
              "    }\n",
              "\n",
              "    .dataframe thead th {\n",
              "        text-align: right;\n",
              "    }\n",
              "</style>\n",
              "<table border=\"1\" class=\"dataframe\">\n",
              "  <thead>\n",
              "    <tr style=\"text-align: right;\">\n",
              "      <th></th>\n",
              "      <th>image_names</th>\n",
              "      <th>emergency_or_not</th>\n",
              "    </tr>\n",
              "  </thead>\n",
              "  <tbody>\n",
              "    <tr>\n",
              "      <th>0</th>\n",
              "      <td>1503.jpg</td>\n",
              "      <td>0</td>\n",
              "    </tr>\n",
              "    <tr>\n",
              "      <th>1</th>\n",
              "      <td>1420.jpg</td>\n",
              "      <td>0</td>\n",
              "    </tr>\n",
              "    <tr>\n",
              "      <th>2</th>\n",
              "      <td>1764.jpg</td>\n",
              "      <td>0</td>\n",
              "    </tr>\n",
              "    <tr>\n",
              "      <th>3</th>\n",
              "      <td>1356.jpg</td>\n",
              "      <td>0</td>\n",
              "    </tr>\n",
              "    <tr>\n",
              "      <th>4</th>\n",
              "      <td>1117.jpg</td>\n",
              "      <td>0</td>\n",
              "    </tr>\n",
              "  </tbody>\n",
              "</table>\n",
              "</div>\n",
              "    <div class=\"colab-df-buttons\">\n",
              "\n",
              "  <div class=\"colab-df-container\">\n",
              "    <button class=\"colab-df-convert\" onclick=\"convertToInteractive('df-8cd5d08c-2dee-4ecb-8e46-ba42a3253112')\"\n",
              "            title=\"Convert this dataframe to an interactive table.\"\n",
              "            style=\"display:none;\">\n",
              "\n",
              "  <svg xmlns=\"http://www.w3.org/2000/svg\" height=\"24px\" viewBox=\"0 -960 960 960\">\n",
              "    <path d=\"M120-120v-720h720v720H120Zm60-500h600v-160H180v160Zm220 220h160v-160H400v160Zm0 220h160v-160H400v160ZM180-400h160v-160H180v160Zm440 0h160v-160H620v160ZM180-180h160v-160H180v160Zm440 0h160v-160H620v160Z\"/>\n",
              "  </svg>\n",
              "    </button>\n",
              "\n",
              "  <style>\n",
              "    .colab-df-container {\n",
              "      display:flex;\n",
              "      gap: 12px;\n",
              "    }\n",
              "\n",
              "    .colab-df-convert {\n",
              "      background-color: #E8F0FE;\n",
              "      border: none;\n",
              "      border-radius: 50%;\n",
              "      cursor: pointer;\n",
              "      display: none;\n",
              "      fill: #1967D2;\n",
              "      height: 32px;\n",
              "      padding: 0 0 0 0;\n",
              "      width: 32px;\n",
              "    }\n",
              "\n",
              "    .colab-df-convert:hover {\n",
              "      background-color: #E2EBFA;\n",
              "      box-shadow: 0px 1px 2px rgba(60, 64, 67, 0.3), 0px 1px 3px 1px rgba(60, 64, 67, 0.15);\n",
              "      fill: #174EA6;\n",
              "    }\n",
              "\n",
              "    .colab-df-buttons div {\n",
              "      margin-bottom: 4px;\n",
              "    }\n",
              "\n",
              "    [theme=dark] .colab-df-convert {\n",
              "      background-color: #3B4455;\n",
              "      fill: #D2E3FC;\n",
              "    }\n",
              "\n",
              "    [theme=dark] .colab-df-convert:hover {\n",
              "      background-color: #434B5C;\n",
              "      box-shadow: 0px 1px 3px 1px rgba(0, 0, 0, 0.15);\n",
              "      filter: drop-shadow(0px 1px 2px rgba(0, 0, 0, 0.3));\n",
              "      fill: #FFFFFF;\n",
              "    }\n",
              "  </style>\n",
              "\n",
              "    <script>\n",
              "      const buttonEl =\n",
              "        document.querySelector('#df-8cd5d08c-2dee-4ecb-8e46-ba42a3253112 button.colab-df-convert');\n",
              "      buttonEl.style.display =\n",
              "        google.colab.kernel.accessAllowed ? 'block' : 'none';\n",
              "\n",
              "      async function convertToInteractive(key) {\n",
              "        const element = document.querySelector('#df-8cd5d08c-2dee-4ecb-8e46-ba42a3253112');\n",
              "        const dataTable =\n",
              "          await google.colab.kernel.invokeFunction('convertToInteractive',\n",
              "                                                    [key], {});\n",
              "        if (!dataTable) return;\n",
              "\n",
              "        const docLinkHtml = 'Like what you see? Visit the ' +\n",
              "          '<a target=\"_blank\" href=https://colab.research.google.com/notebooks/data_table.ipynb>data table notebook</a>'\n",
              "          + ' to learn more about interactive tables.';\n",
              "        element.innerHTML = '';\n",
              "        dataTable['output_type'] = 'display_data';\n",
              "        await google.colab.output.renderOutput(dataTable, element);\n",
              "        const docLink = document.createElement('div');\n",
              "        docLink.innerHTML = docLinkHtml;\n",
              "        element.appendChild(docLink);\n",
              "      }\n",
              "    </script>\n",
              "  </div>\n",
              "\n",
              "\n",
              "<div id=\"df-b1663dc4-d2e4-45f7-955b-3ad4dab7df07\">\n",
              "  <button class=\"colab-df-quickchart\" onclick=\"quickchart('df-b1663dc4-d2e4-45f7-955b-3ad4dab7df07')\"\n",
              "            title=\"Suggest charts\"\n",
              "            style=\"display:none;\">\n",
              "\n",
              "<svg xmlns=\"http://www.w3.org/2000/svg\" height=\"24px\"viewBox=\"0 0 24 24\"\n",
              "     width=\"24px\">\n",
              "    <g>\n",
              "        <path d=\"M19 3H5c-1.1 0-2 .9-2 2v14c0 1.1.9 2 2 2h14c1.1 0 2-.9 2-2V5c0-1.1-.9-2-2-2zM9 17H7v-7h2v7zm4 0h-2V7h2v10zm4 0h-2v-4h2v4z\"/>\n",
              "    </g>\n",
              "</svg>\n",
              "  </button>\n",
              "\n",
              "<style>\n",
              "  .colab-df-quickchart {\n",
              "      --bg-color: #E8F0FE;\n",
              "      --fill-color: #1967D2;\n",
              "      --hover-bg-color: #E2EBFA;\n",
              "      --hover-fill-color: #174EA6;\n",
              "      --disabled-fill-color: #AAA;\n",
              "      --disabled-bg-color: #DDD;\n",
              "  }\n",
              "\n",
              "  [theme=dark] .colab-df-quickchart {\n",
              "      --bg-color: #3B4455;\n",
              "      --fill-color: #D2E3FC;\n",
              "      --hover-bg-color: #434B5C;\n",
              "      --hover-fill-color: #FFFFFF;\n",
              "      --disabled-bg-color: #3B4455;\n",
              "      --disabled-fill-color: #666;\n",
              "  }\n",
              "\n",
              "  .colab-df-quickchart {\n",
              "    background-color: var(--bg-color);\n",
              "    border: none;\n",
              "    border-radius: 50%;\n",
              "    cursor: pointer;\n",
              "    display: none;\n",
              "    fill: var(--fill-color);\n",
              "    height: 32px;\n",
              "    padding: 0;\n",
              "    width: 32px;\n",
              "  }\n",
              "\n",
              "  .colab-df-quickchart:hover {\n",
              "    background-color: var(--hover-bg-color);\n",
              "    box-shadow: 0 1px 2px rgba(60, 64, 67, 0.3), 0 1px 3px 1px rgba(60, 64, 67, 0.15);\n",
              "    fill: var(--button-hover-fill-color);\n",
              "  }\n",
              "\n",
              "  .colab-df-quickchart-complete:disabled,\n",
              "  .colab-df-quickchart-complete:disabled:hover {\n",
              "    background-color: var(--disabled-bg-color);\n",
              "    fill: var(--disabled-fill-color);\n",
              "    box-shadow: none;\n",
              "  }\n",
              "\n",
              "  .colab-df-spinner {\n",
              "    border: 2px solid var(--fill-color);\n",
              "    border-color: transparent;\n",
              "    border-bottom-color: var(--fill-color);\n",
              "    animation:\n",
              "      spin 1s steps(1) infinite;\n",
              "  }\n",
              "\n",
              "  @keyframes spin {\n",
              "    0% {\n",
              "      border-color: transparent;\n",
              "      border-bottom-color: var(--fill-color);\n",
              "      border-left-color: var(--fill-color);\n",
              "    }\n",
              "    20% {\n",
              "      border-color: transparent;\n",
              "      border-left-color: var(--fill-color);\n",
              "      border-top-color: var(--fill-color);\n",
              "    }\n",
              "    30% {\n",
              "      border-color: transparent;\n",
              "      border-left-color: var(--fill-color);\n",
              "      border-top-color: var(--fill-color);\n",
              "      border-right-color: var(--fill-color);\n",
              "    }\n",
              "    40% {\n",
              "      border-color: transparent;\n",
              "      border-right-color: var(--fill-color);\n",
              "      border-top-color: var(--fill-color);\n",
              "    }\n",
              "    60% {\n",
              "      border-color: transparent;\n",
              "      border-right-color: var(--fill-color);\n",
              "    }\n",
              "    80% {\n",
              "      border-color: transparent;\n",
              "      border-right-color: var(--fill-color);\n",
              "      border-bottom-color: var(--fill-color);\n",
              "    }\n",
              "    90% {\n",
              "      border-color: transparent;\n",
              "      border-bottom-color: var(--fill-color);\n",
              "    }\n",
              "  }\n",
              "</style>\n",
              "\n",
              "  <script>\n",
              "    async function quickchart(key) {\n",
              "      const quickchartButtonEl =\n",
              "        document.querySelector('#' + key + ' button');\n",
              "      quickchartButtonEl.disabled = true;  // To prevent multiple clicks.\n",
              "      quickchartButtonEl.classList.add('colab-df-spinner');\n",
              "      try {\n",
              "        const charts = await google.colab.kernel.invokeFunction(\n",
              "            'suggestCharts', [key], {});\n",
              "      } catch (error) {\n",
              "        console.error('Error during call to suggestCharts:', error);\n",
              "      }\n",
              "      quickchartButtonEl.classList.remove('colab-df-spinner');\n",
              "      quickchartButtonEl.classList.add('colab-df-quickchart-complete');\n",
              "    }\n",
              "    (() => {\n",
              "      let quickchartButtonEl =\n",
              "        document.querySelector('#df-b1663dc4-d2e4-45f7-955b-3ad4dab7df07 button');\n",
              "      quickchartButtonEl.style.display =\n",
              "        google.colab.kernel.accessAllowed ? 'block' : 'none';\n",
              "    })();\n",
              "  </script>\n",
              "</div>\n",
              "\n",
              "    </div>\n",
              "  </div>\n"
            ],
            "application/vnd.google.colaboratory.intrinsic+json": {
              "type": "dataframe",
              "variable_name": "train_data",
              "summary": "{\n  \"name\": \"train_data\",\n  \"rows\": 1646,\n  \"fields\": [\n    {\n      \"column\": \"image_names\",\n      \"properties\": {\n        \"dtype\": \"string\",\n        \"num_unique_values\": 1646,\n        \"samples\": [\n          \"242.jpg\",\n          \"1495.jpg\",\n          \"1451.jpg\"\n        ],\n        \"semantic_type\": \"\",\n        \"description\": \"\"\n      }\n    },\n    {\n      \"column\": \"emergency_or_not\",\n      \"properties\": {\n        \"dtype\": \"number\",\n        \"std\": 0,\n        \"min\": 0,\n        \"max\": 1,\n        \"num_unique_values\": 2,\n        \"samples\": [\n          1,\n          0\n        ],\n        \"semantic_type\": \"\",\n        \"description\": \"\"\n      }\n    }\n  ]\n}"
            }
          },
          "metadata": {},
          "execution_count": 11
        }
      ],
      "source": [
        "import pandas as pd\n",
        "\n",
        "train_data = pd.read_csv('/content/Qualcomm-DL-Hackathon/train/train.csv')\n",
        "train_data.head()"
      ]
    },
    {
      "cell_type": "code",
      "execution_count": 12,
      "id": "5d9c4126-84b9-445a-baab-168ce2e72c1c",
      "metadata": {
        "id": "5d9c4126-84b9-445a-baab-168ce2e72c1c",
        "outputId": "d4db3d29-f1ec-4640-a897-7e566a9aaba9",
        "colab": {
          "base_uri": "https://localhost:8080/"
        }
      },
      "outputs": [
        {
          "output_type": "execute_result",
          "data": {
            "text/plain": [
              "(1646, 2)"
            ]
          },
          "metadata": {},
          "execution_count": 12
        }
      ],
      "source": [
        "train_data.shape"
      ]
    },
    {
      "cell_type": "code",
      "execution_count": 13,
      "id": "a1f1b8b8-10ff-4fb8-8457-0d15c45cacad",
      "metadata": {
        "id": "a1f1b8b8-10ff-4fb8-8457-0d15c45cacad",
        "outputId": "c07c82ba-409d-409e-fc52-0a54c13f6d3a",
        "colab": {
          "base_uri": "https://localhost:8080/"
        }
      },
      "outputs": [
        {
          "output_type": "execute_result",
          "data": {
            "text/plain": [
              "(706, 1)"
            ]
          },
          "metadata": {},
          "execution_count": 13
        }
      ],
      "source": [
        "test_data = pd.read_csv('/content/Qualcomm-DL-Hackathon/test.csv')\n",
        "test_data.shape"
      ]
    },
    {
      "cell_type": "code",
      "execution_count": 14,
      "id": "6364452c-2c93-4884-8775-9849928e1cd5",
      "metadata": {
        "id": "6364452c-2c93-4884-8775-9849928e1cd5",
        "outputId": "2c862a39-680a-4b6c-d783-e0268255e1ed",
        "colab": {
          "base_uri": "https://localhost:8080/"
        }
      },
      "outputs": [
        {
          "output_type": "execute_result",
          "data": {
            "text/plain": [
              "array([0, 0, 0, ..., 0, 0, 1])"
            ]
          },
          "metadata": {},
          "execution_count": 14
        }
      ],
      "source": [
        "from sklearn.preprocessing import LabelBinarizer\n",
        "\n",
        "train_image_names = train_data['image_names'].values\n",
        "test_image_names = test_data['image_names'].values\n",
        "\n",
        "# Initialize the LabelBinarizer\n",
        "train_labels = train_data['emergency_or_not'].values\n",
        "\n",
        "# Encode labels\n",
        "#label_binarizer = LabelBinarizer()\n",
        "#train_labels = label_binarizer.fit_transform(train_labels)\n",
        "train_labels\n"
      ]
    },
    {
      "cell_type": "code",
      "execution_count": 15,
      "id": "6178d686-99ad-44b1-8303-549f51e1fd32",
      "metadata": {
        "id": "6178d686-99ad-44b1-8303-549f51e1fd32"
      },
      "outputs": [],
      "source": [
        "import numpy as np\n",
        "\n",
        "train_image_paths = np.array([os.path.join('/content/Qualcomm-DL-Hackathon/train/images', file_name) for file_name in train_image_names])\n",
        "test_image_paths = np.array([os.path.join('/content/Qualcomm-DL-Hackathon/train/images', file_name) for file_name in test_image_names])\n"
      ]
    },
    {
      "cell_type": "code",
      "execution_count": 16,
      "id": "27346ed1-a2be-4a4d-a314-b53107957349",
      "metadata": {
        "id": "27346ed1-a2be-4a4d-a314-b53107957349"
      },
      "outputs": [],
      "source": [
        "train_transforms = transforms.Compose([\n",
        "    transforms.Resize((128, 128)),\n",
        "    transforms.ToTensor(),\n",
        "    transforms.Normalize(mean=[0.485, 0.456, 0.406], std=[0.229, 0.224, 0.225])  # ImageNet mean/std\n",
        "])\n",
        "test_transforms = transforms.Compose([\n",
        "    transforms.Resize((128, 128)),\n",
        "    transforms.ToTensor(),\n",
        "    transforms.Normalize(mean=[0.485, 0.456, 0.406], std=[0.229, 0.224, 0.225])\n",
        "])\n"
      ]
    },
    {
      "cell_type": "code",
      "execution_count": 17,
      "id": "4a3624b8-ac30-48cd-ad79-ca7103d774ac",
      "metadata": {
        "id": "4a3624b8-ac30-48cd-ad79-ca7103d774ac"
      },
      "outputs": [],
      "source": [
        "class CustomDataset(Dataset):\n",
        "    def __init__(self, image_paths, labels=None, transform=None):\n",
        "        self.image_paths = image_paths\n",
        "        self.labels = labels\n",
        "        self.transform = transform\n",
        "\n",
        "    def __len__(self):\n",
        "        return len(self.image_paths)\n",
        "\n",
        "    def __getitem__(self, idx):\n",
        "        image = Image.open(self.image_paths[idx]).convert('RGB')\n",
        "        if self.transform:\n",
        "            image = self.transform(image)\n",
        "        if self.labels is not None:\n",
        "            label = self.labels[idx]\n",
        "            return image, label\n",
        "        else:\n",
        "            return image"
      ]
    },
    {
      "cell_type": "code",
      "execution_count": 18,
      "id": "269340f6-c239-4361-a144-ae2b626214a8",
      "metadata": {
        "id": "269340f6-c239-4361-a144-ae2b626214a8"
      },
      "outputs": [],
      "source": [
        "train_dataset = CustomDataset(image_paths=train_image_paths, labels=train_labels, transform=train_transforms)\n",
        "test_dataset = CustomDataset(image_paths=test_image_paths, transform=test_transforms)"
      ]
    },
    {
      "cell_type": "code",
      "execution_count": 19,
      "id": "eeaf06fb-0288-4d79-8c97-bc8034263414",
      "metadata": {
        "id": "eeaf06fb-0288-4d79-8c97-bc8034263414"
      },
      "outputs": [],
      "source": [
        "# Split training data into training and validation sets\n",
        "train_size = int(0.8 * len(train_dataset))\n",
        "val_size = len(train_dataset) - train_size\n",
        "train_data, val_data = random_split(train_dataset, [train_size, val_size])"
      ]
    },
    {
      "cell_type": "code",
      "execution_count": 20,
      "id": "31d10c74-b1af-48f4-b8d6-6d69387950e9",
      "metadata": {
        "id": "31d10c74-b1af-48f4-b8d6-6d69387950e9",
        "outputId": "1734937b-68da-4a61-e5bb-2d1cb7d5296b",
        "colab": {
          "base_uri": "https://localhost:8080/"
        }
      },
      "outputs": [
        {
          "output_type": "execute_result",
          "data": {
            "text/plain": [
              "(1316, 330)"
            ]
          },
          "metadata": {},
          "execution_count": 20
        }
      ],
      "source": [
        "train_size, val_size"
      ]
    },
    {
      "cell_type": "code",
      "execution_count": 21,
      "id": "cf4800f5-66d9-4df6-9ed2-c075e9db5141",
      "metadata": {
        "id": "cf4800f5-66d9-4df6-9ed2-c075e9db5141"
      },
      "outputs": [],
      "source": [
        "batch_size = 32\n",
        "train_loader = DataLoader(train_data, batch_size=batch_size, shuffle=True)\n",
        "val_loader = DataLoader(val_data, batch_size=batch_size, shuffle=True)\n",
        "test_loader = DataLoader(test_dataset, batch_size=batch_size, shuffle=False)"
      ]
    },
    {
      "cell_type": "code",
      "execution_count": 22,
      "id": "c4fd5ab2-58df-43e9-8425-1d14715cbe5b",
      "metadata": {
        "id": "c4fd5ab2-58df-43e9-8425-1d14715cbe5b"
      },
      "outputs": [],
      "source": [
        "# Define the CNN model architecture (no modular code)\n",
        "conv1 = nn.Conv2d(3, 32, kernel_size=3, stride=1, padding=1)\n",
        "conv2 = nn.Conv2d(32, 64, kernel_size=3, stride=1, padding=1)\n",
        "conv3 = nn.Conv2d(64, 128, kernel_size=3, stride=1, padding=1)\n",
        "pool = nn.MaxPool2d(kernel_size=2, stride=2, padding=0)\n",
        "fc1 = nn.Linear(128 * 16 * 16, 256)\n",
        "fc2 = nn.Linear(256, 2)  # 2 classes (emergency non-emergency)"
      ]
    },
    {
      "cell_type": "code",
      "execution_count": 27,
      "id": "46771f5d-68a9-4e22-a9d6-ff0818c08464",
      "metadata": {
        "id": "46771f5d-68a9-4e22-a9d6-ff0818c08464"
      },
      "outputs": [],
      "source": [
        "# Initialize the model\n",
        "model = nn.Sequential(\n",
        "    conv1,\n",
        "    nn.ReLU(),\n",
        "    pool,\n",
        "    conv2,\n",
        "    nn.ReLU(),\n",
        "    pool,\n",
        "    conv3,\n",
        "    nn.ReLU(),\n",
        "    pool,\n",
        "    nn.Flatten(),\n",
        "    fc1,\n",
        "    nn.ReLU(),\n",
        "    nn.Dropout(0.3),\n",
        "    fc2,\n",
        "    nn.Softmax(dim=1)\n",
        ")"
      ]
    },
    {
      "cell_type": "code",
      "execution_count": 28,
      "id": "5b7c93b7-b94d-4fe1-b901-c9b1bb437bf6",
      "metadata": {
        "id": "5b7c93b7-b94d-4fe1-b901-c9b1bb437bf6"
      },
      "outputs": [],
      "source": [
        "# Define the loss function and optimizer\n",
        "criterion = nn.CrossEntropyLoss()  # for classification\n",
        "optimizer = optim.Adam(model.parameters(), lr=0.001)"
      ]
    },
    {
      "cell_type": "code",
      "execution_count": 29,
      "id": "17271ea9-171d-4801-9043-9d75f38259ff",
      "metadata": {
        "id": "17271ea9-171d-4801-9043-9d75f38259ff",
        "outputId": "08e31219-d94d-4bc7-f42b-64687fcfd169",
        "colab": {
          "base_uri": "https://localhost:8080/"
        }
      },
      "outputs": [
        {
          "output_type": "stream",
          "name": "stdout",
          "text": [
            "Epoch [1/7], Loss: 0.7262, Accuracy: 58.36%\n",
            "Epoch [2/7], Loss: 0.7262, Accuracy: 58.36%\n",
            "Epoch [3/7], Loss: 0.7366, Accuracy: 58.36%\n",
            "Epoch [4/7], Loss: 0.7262, Accuracy: 58.36%\n",
            "Epoch [5/7], Loss: 0.7314, Accuracy: 58.36%\n",
            "Epoch [6/7], Loss: 0.7418, Accuracy: 58.36%\n",
            "Epoch [7/7], Loss: 0.7418, Accuracy: 58.36%\n"
          ]
        }
      ],
      "source": [
        "# Training the model\n",
        "num_epochs = 7\n",
        "for epoch in range(num_epochs):\n",
        "    model.train()  # Set the model to training mode\n",
        "    running_loss = 0.0\n",
        "    total = 0\n",
        "    correct = 0\n",
        "\n",
        "\n",
        "    for inputs, labels in train_loader:\n",
        "        #inputs, labels = inputs.to(device), labels.to(device)\n",
        "\n",
        "        # Zero the parameter gradients\n",
        "        optimizer.zero_grad()\n",
        "\n",
        "        # Forward pass\n",
        "        outputs = model(inputs)\n",
        "        loss = criterion(outputs, labels)\n",
        "\n",
        "        # Backward pass and optimize\n",
        "        loss.backward()\n",
        "        optimizer.step()\n",
        "\n",
        "        # Track the loss and accuracy\n",
        "        running_loss += loss.item()\n",
        "        _, predicted = torch.max(outputs, 1)\n",
        "        total += labels.size(0)\n",
        "        correct += (predicted == labels).sum().item()\n",
        "\n",
        "    epoch_loss = running_loss / len(train_loader)\n",
        "    epoch_accuracy = 100 * correct / total\n",
        "    print(f'Epoch [{epoch+1}/{num_epochs}], Loss: {epoch_loss:.4f}, Accuracy: {epoch_accuracy:.2f}%')"
      ]
    },
    {
      "cell_type": "code",
      "execution_count": null,
      "id": "20d6258e-e290-4b99-98bb-776b445fd055",
      "metadata": {
        "id": "20d6258e-e290-4b99-98bb-776b445fd055"
      },
      "outputs": [],
      "source": [
        "# Hyperparameters to tune\n",
        "learning_rates = [0.001, 0.01]\n",
        "batch_sizes = [16, 32]\n",
        "dropout_rates = [0.3, 0.5]\n",
        "hidden_layers = [1, 2,3]  # 1 hidden layer or 2 hidden layers\n",
        "hidden_units = [128, 256]  # Size of each hidden layer\n",
        "num_epochs = 10\n",
        "\n",
        "# Placeholder for the best model and hyperparameters\n",
        "best_model = None\n",
        "best_accuracy = 0\n",
        "best_params = {}\n",
        "\n",
        "# Grid search loop over hyperparameters\n",
        "for lr in learning_rates:\n",
        "    for batch_size in batch_sizes:\n",
        "        for dropout_rate in dropout_rates:\n",
        "            for num_hidden_layers in hidden_layers:\n",
        "                for hidden_units_per_layer in hidden_units:\n",
        "\n",
        "                    # Recreate data loaders with the current batch size\n",
        "                    train_loader = DataLoader(train_data, batch_size=batch_size, shuffle=True)\n",
        "                    val_loader = DataLoader(val_data, batch_size=batch_size, shuffle=True)\n",
        "                    test_loader = DataLoader(test_dataset, batch_size=batch_size, shuffle=False)\n",
        "\n",
        "                    # Define the CNN model architecture with the current number of hidden layers and dropout rate\n",
        "                    conv1 = nn.Conv2d(3, 32, kernel_size=3, stride=1, padding=1)\n",
        "                    conv2 = nn.Conv2d(32, 64, kernel_size=3, stride=1, padding=1)\n",
        "                    conv3 = nn.Conv2d(64, 128, kernel_size=3, stride=1, padding=1)\n",
        "                    pool = nn.MaxPool2d(kernel_size=2, stride=2, padding=0)\n",
        "                    fc_layers = []\n",
        "\n",
        "                    # Create hidden layers based on the number of hidden layers\n",
        "                    input_size = 128 * 16 * 16  # Image size after convolution and pooling\n",
        "                    for i in range(num_hidden_layers):\n",
        "                        fc_layers.append(nn.Linear(input_size, hidden_units_per_layer))\n",
        "                        fc_layers.append(nn.ReLU())\n",
        "                        fc_layers.append(nn.Dropout(dropout_rate))\n",
        "                        input_size = hidden_units_per_layer  # Update input size for the next layer\n",
        "\n",
        "                    fc_layers.append(nn.Linear(input_size, 5))  # Output layer for 5 classes (cycling, dancing, drinking, eating, sitting)\n",
        "\n",
        "                    # Combine layers into a model\n",
        "                    model = nn.Sequential(\n",
        "                        conv1,\n",
        "                        nn.ReLU(),\n",
        "                        pool,\n",
        "                        conv2,\n",
        "                        nn.ReLU(),\n",
        "                        pool,\n",
        "                        conv3,\n",
        "                        nn.ReLU(),\n",
        "                        pool,\n",
        "                        nn.Flatten(),\n",
        "                        *fc_layers\n",
        "                    ).to(device)\n",
        "\n",
        "                    # Define the loss function and optimizer for this combination of hyperparameters\n",
        "                    criterion = nn.CrossEntropyLoss()\n",
        "                    optimizer = optim.Adam(model.parameters(), lr=lr)\n",
        "\n",
        "                    # Train the model\n",
        "                    for epoch in range(num_epochs):\n",
        "                        model.train()\n",
        "                        running_loss = 0.0\n",
        "                        correct = 0\n",
        "                        total = 0\n",
        "\n",
        "                        for inputs, labels in train_loader:\n",
        "                            inputs, labels = inputs.to(device), labels.to(device)\n",
        "\n",
        "                            optimizer.zero_grad()\n",
        "                            outputs = model(inputs)\n",
        "                            loss = criterion(outputs, labels)\n",
        "                            loss.backward()\n",
        "                            optimizer.step()\n",
        "\n",
        "                            running_loss += loss.item()\n",
        "                            _, predicted = torch.max(outputs, 1)\n",
        "                            total += labels.size(0)\n",
        "                            correct += (predicted == labels).sum().item()\n",
        "\n",
        "                        epoch_loss = running_loss / len(train_loader)\n",
        "                        epoch_accuracy = 100 * correct / total\n",
        "                        print(f\"Epoch [{epoch+1}/{num_epochs}] for lr={lr}, batch_size={batch_size}, dropout={dropout_rate}, hidden_layers={num_hidden_layers}, hidden_units={hidden_units_per_layer}: Loss={epoch_loss:.4f}, Accuracy={epoch_accuracy:.2f}%\")\n",
        "\n",
        "                    # Evaluate on the validation set after training\n",
        "                    model.eval()\n",
        "                    val_correct = 0\n",
        "                    val_total = 0\n",
        "                    with torch.no_grad():\n",
        "                        for inputs, labels in val_loader:\n",
        "                            inputs, labels = inputs.to(device), labels.to(device)\n",
        "                            outputs = model(inputs)\n",
        "                            _, predicted = torch.max(outputs, 1)\n",
        "                            val_total += labels.size(0)\n",
        "                            val_correct += (predicted == labels).sum().item()\n",
        "\n",
        "                    val_accuracy = 100 * val_correct / val_total\n",
        "                    print(f\"Validation Accuracy for lr={lr}, batch_size={batch_size}, dropout={dropout_rate}, hidden_layers={num_hidden_layers}, hidden_units={hidden_units_per_layer}: {val_accuracy:.2f}%\")\n"
      ]
    },
    {
      "cell_type": "code",
      "execution_count": 30,
      "id": "b96c182a-e651-42a4-9efd-52e021c52453",
      "metadata": {
        "id": "b96c182a-e651-42a4-9efd-52e021c52453",
        "outputId": "1896f5e3-122f-4be4-d63f-81b9a746a96b",
        "colab": {
          "base_uri": "https://localhost:8080/"
        }
      },
      "outputs": [
        {
          "output_type": "stream",
          "name": "stdout",
          "text": [
            "Validation Accuracy: 59.70%\n"
          ]
        }
      ],
      "source": [
        "# Evaluate the model on the validation set\n",
        "model.eval()  # Set the model to evaluation mode\n",
        "val_correct = 0\n",
        "val_total = 0\n",
        "with torch.no_grad():\n",
        "    for inputs, labels in val_loader:\n",
        "        #inputs, labels = inputs.to(device), labels.to(device)\n",
        "        outputs = model(inputs)\n",
        "        _, predicted = torch.max(outputs, 1)\n",
        "        val_total += labels.size(0)\n",
        "        val_correct += (predicted == labels).sum().item()\n",
        "\n",
        "val_accuracy = 100 * val_correct / val_total\n",
        "print(f'Validation Accuracy: {val_accuracy:.2f}%')"
      ]
    },
    {
      "cell_type": "code",
      "execution_count": null,
      "id": "0e6dcd11-172b-4bbb-b64a-df73f4a36926",
      "metadata": {
        "id": "0e6dcd11-172b-4bbb-b64a-df73f4a36926"
      },
      "outputs": [],
      "source": [
        "# Generate predictions for test images\n",
        "model.eval()  # Set the model to evaluation mode\n",
        "predictions = []\n",
        "\n",
        "with torch.no_grad():\n",
        "    for inputs in test_loader:\n",
        "        outputs = model(inputs)\n",
        "        _, predicted = torch.max(outputs, 1)\n",
        "        predictions.extend(predicted.cpu().numpy())\n",
        "\n",
        "# Print or save the predictions\n",
        "print(predictions)"
      ]
    }
  ],
  "metadata": {
    "kernelspec": {
      "display_name": "Python 3",
      "name": "python3"
    },
    "language_info": {
      "codemirror_mode": {
        "name": "ipython",
        "version": 3
      },
      "file_extension": ".py",
      "mimetype": "text/x-python",
      "name": "python",
      "nbconvert_exporter": "python",
      "pygments_lexer": "ipython3",
      "version": "3.12.7"
    },
    "colab": {
      "provenance": []
    }
  },
  "nbformat": 4,
  "nbformat_minor": 5
}